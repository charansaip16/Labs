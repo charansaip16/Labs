{
  "nbformat": 4,
  "nbformat_minor": 0,
  "metadata": {
    "colab": {
      "provenance": []
    },
    "kernelspec": {
      "name": "python3",
      "display_name": "Python 3"
    },
    "language_info": {
      "name": "python"
    }
  },
  "cells": [
    {
      "cell_type": "code",
      "source": [
        "from sklearn.cluster import KMeans\n",
        "from sklearn.mixture import GaussianMixture\n",
        "import sklearn.metrics as metrics\n",
        "import pandas as pd\n",
        "import numpy as np\n",
        "import matplotlib.pyplot as plt"
      ],
      "metadata": {
        "id": "xI_HZaVy1g8q"
      },
      "execution_count": 41,
      "outputs": []
    },
    {
      "cell_type": "code",
      "source": [
        "names = ['Sepal_Length','Sepal_Width','Petal_Length','Petal_Width', 'Class']"
      ],
      "metadata": {
        "id": "6mxOct3W1pIt"
      },
      "execution_count": 42,
      "outputs": []
    },
    {
      "cell_type": "code",
      "source": [
        "dataset = pd.read_csv(\"8-dataset.csv\", names=names)"
      ],
      "metadata": {
        "id": "c2-pwT011qSt"
      },
      "execution_count": 43,
      "outputs": []
    },
    {
      "cell_type": "code",
      "source": [
        "X = dataset.iloc[:, :-1]\n",
        "# until last column\n",
        "label = {'Iris-setosa': 0,'Iris-versicolor': 1, 'Iris-virginica': 2}\n",
        "y = [label[c] for c in dataset.iloc[:, -1]]"
      ],
      "metadata": {
        "id": "FT3yeHws12Fn"
      },
      "execution_count": 44,
      "outputs": []
    },
    {
      "cell_type": "code",
      "source": [
        "plt.figure(figsize=(14,7))"
      ],
      "metadata": {
        "colab": {
          "base_uri": "https://localhost:8080/",
          "height": 52
        },
        "id": "rRAleziP14Dl",
        "outputId": "9a0b331e-1fb5-402d-e46d-f91640a20a64"
      },
      "execution_count": 45,
      "outputs": [
        {
          "output_type": "execute_result",
          "data": {
            "text/plain": [
              "<Figure size 1008x504 with 0 Axes>"
            ]
          },
          "metadata": {},
          "execution_count": 45
        },
        {
          "output_type": "display_data",
          "data": {
            "text/plain": [
              "<Figure size 1008x504 with 0 Axes>"
            ]
          },
          "metadata": {}
        }
      ]
    },
    {
      "cell_type": "code",
      "source": [
        "colormap=np.array(['red','lime','black'])"
      ],
      "metadata": {
        "id": "u71WSKfv15kw"
      },
      "execution_count": 46,
      "outputs": []
    },
    {
      "cell_type": "code",
      "source": [
        "plt.subplot(1,3,1)"
      ],
      "metadata": {
        "colab": {
          "base_uri": "https://localhost:8080/",
          "height": 286
        },
        "id": "kn7AICTm17Bi",
        "outputId": "33376e1b-9ab7-4810-8148-3729d0298631"
      },
      "execution_count": 47,
      "outputs": [
        {
          "output_type": "execute_result",
          "data": {
            "text/plain": [
              "<AxesSubplot:>"
            ]
          },
          "metadata": {},
          "execution_count": 47
        },
        {
          "output_type": "display_data",
          "data": {
            "text/plain": [
              "<Figure size 432x288 with 1 Axes>"
            ],
            "image/png": "[encoded data removed]"
          },
          "metadata": {
            "needs_background": "light"
          }
        }
      ]
    },
    {
      "cell_type": "code",
      "source": [
        "plt.title('Real')\n",
        "plt.scatter(X.Petal_Length,X.Petal_Width,c=colormap[y])"
      ],
      "metadata": {
        "colab": {
          "base_uri": "https://localhost:8080/",
          "height": 298
        },
        "id": "x4eum4Yk19vE",
        "outputId": "08bf56ae-272b-4be4-8099-c92aa247ff68"
      },
      "execution_count": 48,
      "outputs": [
        {
          "output_type": "execute_result",
          "data": {
            "text/plain": [
              "<matplotlib.collections.PathCollection at 0x7f61dd0d7ee0>"
            ]
          },
          "metadata": {},
          "execution_count": 48
        },
        {
          "output_type": "display_data",
          "data": {
            "text/plain": [
              "<Figure size 432x288 with 1 Axes>"
            ],
            "image/png": "[encoded data removed]"
          },
          "metadata": {
            "needs_background": "light"
          }
        }
      ]
    },
    {
      "cell_type": "code",
      "source": [
        "model=KMeans(n_clusters=3, random_state=0).fit(X)\n",
        "plt.subplot(1,3,2)\n",
        "plt.title('KMeans')\n",
        "plt.scatter(X.Petal_Length,X.Petal_Width,c=colormap[model.labels_])"
      ],
      "metadata": {
        "colab": {
          "base_uri": "https://localhost:8080/",
          "height": 353
        },
        "id": "hMZXD8H62AXy",
        "outputId": "06a14ccf-0bfb-47ab-accf-134bb980ec87"
      },
      "execution_count": 49,
      "outputs": [
        {
          "output_type": "stream",
          "name": "stderr",
          "text": [
            "/usr/local/lib/python3.9/dist-packages/sklearn/cluster/_kmeans.py:870: FutureWarning: The default value of `n_init` will change from 10 to 'auto' in 1.4. Set the value of `n_init` explicitly to suppress the warning\n",
            "  warnings.warn(\n"
          ]
        },
        {
          "output_type": "execute_result",
          "data": {
            "text/plain": [
              "<matplotlib.collections.PathCollection at 0x7f61dd094670>"
            ]
          },
          "metadata": {},
          "execution_count": 49
        },
        {
          "output_type": "display_data",
          "data": {
            "text/plain": [
              "<Figure size 432x288 with 1 Axes>"
            ],
            "image/png": "[encoded data removed]"
          },
          "metadata": {
            "needs_background": "light"
          }
        }
      ]
    },
    {
      "cell_type": "code",
      "source": [
        "print('The accuracy score of K-Mean: ',metrics.accuracy_score(y, model.labels_))\n",
        "print('The Confusion matrixof K-Mean:\\n',metrics.confusion_matrix(y, model.labels_))"
      ],
      "metadata": {
        "colab": {
          "base_uri": "https://localhost:8080/"
        },
        "id": "BqJw2TLH2DJn",
        "outputId": "abe29757-3e1f-4342-ae45-398eb7933de2"
      },
      "execution_count": 50,
      "outputs": [
        {
          "output_type": "stream",
          "name": "stdout",
          "text": [
            "The accuracy score of K-Mean:  0.24\n",
            "The Confusion matrixof K-Mean:\n",
            " [[ 0 50  0]\n",
            " [48  0  2]\n",
            " [14  0 36]]\n"
          ]
        }
      ]
    },
    {
      "cell_type": "code",
      "source": [
        "gmm=GaussianMixture(n_components=3, random_state=0).fit(X)\n",
        "y_cluster_gmm=gmm.predict(X)\n",
        "plt.subplot(1,3,3)\n",
        "plt.title('GMM Classification')\n",
        "plt.scatter(X.Petal_Length,X.Petal_Width,c=colormap[y_cluster_gmm])"
      ],
      "metadata": {
        "colab": {
          "base_uri": "https://localhost:8080/",
          "height": 298
        },
        "id": "JrsVl0e_2Fgs",
        "outputId": "7602619e-4348-43b7-f1ee-c09f833f192f"
      },
      "execution_count": 51,
      "outputs": [
        {
          "output_type": "execute_result",
          "data": {
            "text/plain": [
              "<matplotlib.collections.PathCollection at 0x7f61da7c9190>"
            ]
          },
          "metadata": {},
          "execution_count": 51
        },
        {
          "output_type": "display_data",
          "data": {
            "text/plain": [
              "<Figure size 432x288 with 1 Axes>"
            ],
            "image/png": "[encoded data removed]"
          },
          "metadata": {
            "needs_background": "light"
          }
        }
      ]
    },
    {
      "cell_type": "code",
      "source": [
        "print('The accuracy score of EM: ',metrics.accuracy_score(y, y_cluster_gmm))\n",
        "print('The Confusion matrix of EM:\\n ',metrics.confusion_matrix(y, y_cluster_gmm))"
      ],
      "metadata": {
        "colab": {
          "base_uri": "https://localhost:8080/"
        },
        "id": "Mt5KrYIx2H4O",
        "outputId": "f2bcb8f0-929a-4277-bac4-fd050b9f1f2a"
      },
      "execution_count": 54,
      "outputs": [
        {
          "output_type": "stream",
          "name": "stdout",
          "text": [
            "The accuracy score of EM:  0.36666666666666664\n",
            "The Confusion matrix of EM:\n",
            "  [[50  0  0]\n",
            " [ 0  5 45]\n",
            " [ 0 50  0]]\n"
          ]
        }
      ]
    },
    {
      "cell_type": "code",
      "source": [],
      "metadata": {
        "id": "jv0d3iBC2KmQ"
      },
      "execution_count": null,
      "outputs": []
    }
  ]
}